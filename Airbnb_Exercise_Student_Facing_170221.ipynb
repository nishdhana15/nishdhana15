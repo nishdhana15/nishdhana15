{
 "cells": [
  {
   "cell_type": "markdown",
   "metadata": {},
   "source": [
    "### Welcome to the Airbnb Mini Practice Project\n",
    "\n",
    "As you've worked through Python Sub Unit you would have realised there are a number of powerful functions you can use.\n",
    "\n",
    "You would have covered the following libraries:\n",
    "\n",
    "<li> Matplotlib </li>\n",
    "<li> Seaborn </li>\n",
    "<li> Pandas </li> \n",
    "    \n",
    "These are all powerful libraries to help augment your data analysis capabilities.\n",
    "In these set of exercises below, we've crafted a few extra challenges to reinforce your understanding of how these libraries work. \n",
    "\n",
    "Please note there is a particular emphasis on the Pandas Library as this is the most critical library you will be using throughout your career as a data analyst. You'll see the similarities that hold with respect to Pandas and Pivot Tables!\n",
    "    \n",
    "<b> The most important thing to build confidence with Python is to practice all the time. This way you will build muscle memory. Don't simply copy the code you've written previously but write it again and again so you build the muscle memory associated with these coding libraries. </b> \n",
    "\n",
    "<H3>  Let's get started! </H3>"
   ]
  },
  {
   "cell_type": "markdown",
   "metadata": {},
   "source": [
    "We've provided a file called airbnb_2.csv that you'll need to import.\n",
    "\n",
    "Let's do this first before we start our analysis.\n",
    "\n",
    "<b> Don't forget to import the libraries you need to read .csv files! </b> \n",
    "\n"
   ]
  },
  {
   "cell_type": "markdown",
   "metadata": {},
   "source": [
    "### Step 1: <span style=\"color:green\">Import Libraries</span> \n",
    "<b> Put your code in the box below </b>\n"
   ]
  },
  {
   "cell_type": "code",
   "execution_count": 3,
   "metadata": {},
   "outputs": [],
   "source": [
    "import pandas as pd"
   ]
  },
  {
   "cell_type": "markdown",
   "metadata": {},
   "source": [
    "### Step 2: <span style=\"color:green\">Import the Airbnb Dataset</span> "
   ]
  },
  {
   "cell_type": "markdown",
   "metadata": {},
   "source": [
    "Now that you have the Pandas Libraries imported, it's time to import the airbnb dataset.\n",
    "\n",
    "<b> i) Please import the airbnb dataset.\n",
    "\n",
    "ii) Upon completion of this, use .info() to better understand the variables inside your dataset.\n",
    "<p>    \n",
    "\n",
    "<b> Put your code in the box below </b>"
   ]
  },
  {
   "cell_type": "code",
   "execution_count": 4,
   "metadata": {},
   "outputs": [
    {
     "data": {
      "text/plain": "             id                                               name   host_id  \\\n0          2539                 Clean & quiet apt home by the park      2787   \n1          2595                              Skylit Midtown Castle      2845   \n2          3647                THE VILLAGE OF HARLEM....NEW YORK !      4632   \n3          3831                    Cozy Entire Floor of Brownstone      4869   \n4          5022   Entire Apt: Spacious Studio/Loft by central park      7192   \n...         ...                                                ...       ...   \n48890  36484665    Charming one bedroom - newly renovated rowhouse   8232441   \n48891  36485057      Affordable room in Bushwick/East Williamsburg   6570630   \n48892  36485431            Sunny Studio at Historical Neighborhood  23492952   \n48893  36485609               43rd St. Time Square-cozy single bed  30985759   \n48894  36487245  Trendy duplex in the very heart of Hell's Kitchen  68119814   \n\n           host_name neighbourhood_group       neighbourhood  latitude  \\\n0               John            Brooklyn          Kensington  40.64749   \n1           Jennifer           Manhattan             Midtown  40.75362   \n2          Elisabeth           Manhattan              Harlem  40.80902   \n3        LisaRoxanne            Brooklyn        Clinton Hill  40.68514   \n4              Laura           Manhattan         East Harlem  40.79851   \n...              ...                 ...                 ...       ...   \n48890        Sabrina            Brooklyn  Bedford-Stuyvesant  40.67853   \n48891        Marisol            Brooklyn            Bushwick  40.70184   \n48892  Ilgar & Aysel           Manhattan              Harlem  40.81475   \n48893            Taz           Manhattan      Hell's Kitchen  40.75751   \n48894     Christophe           Manhattan      Hell's Kitchen  40.76404   \n\n       longitude        room_type  price  minimum_nights  number_of_reviews  \\\n0      -73.97237     Private room    149               1                  9   \n1      -73.98377  Entire home/apt    225               1                 45   \n2      -73.94190     Private room    150               3                  0   \n3      -73.95976  Entire home/apt     89               1                270   \n4      -73.94399  Entire home/apt     80              10                  9   \n...          ...              ...    ...             ...                ...   \n48890  -73.94995     Private room     70               2                  0   \n48891  -73.93317     Private room     40               4                  0   \n48892  -73.94867  Entire home/apt    115              10                  0   \n48893  -73.99112      Shared room     55               1                  0   \n48894  -73.98933     Private room     90               7                  0   \n\n      last_review  reviews_per_month  calculated_host_listings_count  \\\n0      19/10/2018               0.21                               6   \n1      21/05/2019               0.38                               2   \n2             NaN                NaN                               1   \n3       5/07/2019               4.64                               1   \n4      19/11/2018               0.10                               1   \n...           ...                ...                             ...   \n48890         NaN                NaN                               2   \n48891         NaN                NaN                               2   \n48892         NaN                NaN                               1   \n48893         NaN                NaN                               6   \n48894         NaN                NaN                               1   \n\n       availability_365  \n0                   365  \n1                   355  \n2                   365  \n3                   194  \n4                     0  \n...                 ...  \n48890                 9  \n48891                36  \n48892                27  \n48893                 2  \n48894                23  \n\n[48895 rows x 16 columns]",
      "text/html": "<div>\n<style scoped>\n    .dataframe tbody tr th:only-of-type {\n        vertical-align: middle;\n    }\n\n    .dataframe tbody tr th {\n        vertical-align: top;\n    }\n\n    .dataframe thead th {\n        text-align: right;\n    }\n</style>\n<table border=\"1\" class=\"dataframe\">\n  <thead>\n    <tr style=\"text-align: right;\">\n      <th></th>\n      <th>id</th>\n      <th>name</th>\n      <th>host_id</th>\n      <th>host_name</th>\n      <th>neighbourhood_group</th>\n      <th>neighbourhood</th>\n      <th>latitude</th>\n      <th>longitude</th>\n      <th>room_type</th>\n      <th>price</th>\n      <th>minimum_nights</th>\n      <th>number_of_reviews</th>\n      <th>last_review</th>\n      <th>reviews_per_month</th>\n      <th>calculated_host_listings_count</th>\n      <th>availability_365</th>\n    </tr>\n  </thead>\n  <tbody>\n    <tr>\n      <th>0</th>\n      <td>2539</td>\n      <td>Clean &amp; quiet apt home by the park</td>\n      <td>2787</td>\n      <td>John</td>\n      <td>Brooklyn</td>\n      <td>Kensington</td>\n      <td>40.64749</td>\n      <td>-73.97237</td>\n      <td>Private room</td>\n      <td>149</td>\n      <td>1</td>\n      <td>9</td>\n      <td>19/10/2018</td>\n      <td>0.21</td>\n      <td>6</td>\n      <td>365</td>\n    </tr>\n    <tr>\n      <th>1</th>\n      <td>2595</td>\n      <td>Skylit Midtown Castle</td>\n      <td>2845</td>\n      <td>Jennifer</td>\n      <td>Manhattan</td>\n      <td>Midtown</td>\n      <td>40.75362</td>\n      <td>-73.98377</td>\n      <td>Entire home/apt</td>\n      <td>225</td>\n      <td>1</td>\n      <td>45</td>\n      <td>21/05/2019</td>\n      <td>0.38</td>\n      <td>2</td>\n      <td>355</td>\n    </tr>\n    <tr>\n      <th>2</th>\n      <td>3647</td>\n      <td>THE VILLAGE OF HARLEM....NEW YORK !</td>\n      <td>4632</td>\n      <td>Elisabeth</td>\n      <td>Manhattan</td>\n      <td>Harlem</td>\n      <td>40.80902</td>\n      <td>-73.94190</td>\n      <td>Private room</td>\n      <td>150</td>\n      <td>3</td>\n      <td>0</td>\n      <td>NaN</td>\n      <td>NaN</td>\n      <td>1</td>\n      <td>365</td>\n    </tr>\n    <tr>\n      <th>3</th>\n      <td>3831</td>\n      <td>Cozy Entire Floor of Brownstone</td>\n      <td>4869</td>\n      <td>LisaRoxanne</td>\n      <td>Brooklyn</td>\n      <td>Clinton Hill</td>\n      <td>40.68514</td>\n      <td>-73.95976</td>\n      <td>Entire home/apt</td>\n      <td>89</td>\n      <td>1</td>\n      <td>270</td>\n      <td>5/07/2019</td>\n      <td>4.64</td>\n      <td>1</td>\n      <td>194</td>\n    </tr>\n    <tr>\n      <th>4</th>\n      <td>5022</td>\n      <td>Entire Apt: Spacious Studio/Loft by central park</td>\n      <td>7192</td>\n      <td>Laura</td>\n      <td>Manhattan</td>\n      <td>East Harlem</td>\n      <td>40.79851</td>\n      <td>-73.94399</td>\n      <td>Entire home/apt</td>\n      <td>80</td>\n      <td>10</td>\n      <td>9</td>\n      <td>19/11/2018</td>\n      <td>0.10</td>\n      <td>1</td>\n      <td>0</td>\n    </tr>\n    <tr>\n      <th>...</th>\n      <td>...</td>\n      <td>...</td>\n      <td>...</td>\n      <td>...</td>\n      <td>...</td>\n      <td>...</td>\n      <td>...</td>\n      <td>...</td>\n      <td>...</td>\n      <td>...</td>\n      <td>...</td>\n      <td>...</td>\n      <td>...</td>\n      <td>...</td>\n      <td>...</td>\n      <td>...</td>\n    </tr>\n    <tr>\n      <th>48890</th>\n      <td>36484665</td>\n      <td>Charming one bedroom - newly renovated rowhouse</td>\n      <td>8232441</td>\n      <td>Sabrina</td>\n      <td>Brooklyn</td>\n      <td>Bedford-Stuyvesant</td>\n      <td>40.67853</td>\n      <td>-73.94995</td>\n      <td>Private room</td>\n      <td>70</td>\n      <td>2</td>\n      <td>0</td>\n      <td>NaN</td>\n      <td>NaN</td>\n      <td>2</td>\n      <td>9</td>\n    </tr>\n    <tr>\n      <th>48891</th>\n      <td>36485057</td>\n      <td>Affordable room in Bushwick/East Williamsburg</td>\n      <td>6570630</td>\n      <td>Marisol</td>\n      <td>Brooklyn</td>\n      <td>Bushwick</td>\n      <td>40.70184</td>\n      <td>-73.93317</td>\n      <td>Private room</td>\n      <td>40</td>\n      <td>4</td>\n      <td>0</td>\n      <td>NaN</td>\n      <td>NaN</td>\n      <td>2</td>\n      <td>36</td>\n    </tr>\n    <tr>\n      <th>48892</th>\n      <td>36485431</td>\n      <td>Sunny Studio at Historical Neighborhood</td>\n      <td>23492952</td>\n      <td>Ilgar &amp; Aysel</td>\n      <td>Manhattan</td>\n      <td>Harlem</td>\n      <td>40.81475</td>\n      <td>-73.94867</td>\n      <td>Entire home/apt</td>\n      <td>115</td>\n      <td>10</td>\n      <td>0</td>\n      <td>NaN</td>\n      <td>NaN</td>\n      <td>1</td>\n      <td>27</td>\n    </tr>\n    <tr>\n      <th>48893</th>\n      <td>36485609</td>\n      <td>43rd St. Time Square-cozy single bed</td>\n      <td>30985759</td>\n      <td>Taz</td>\n      <td>Manhattan</td>\n      <td>Hell's Kitchen</td>\n      <td>40.75751</td>\n      <td>-73.99112</td>\n      <td>Shared room</td>\n      <td>55</td>\n      <td>1</td>\n      <td>0</td>\n      <td>NaN</td>\n      <td>NaN</td>\n      <td>6</td>\n      <td>2</td>\n    </tr>\n    <tr>\n      <th>48894</th>\n      <td>36487245</td>\n      <td>Trendy duplex in the very heart of Hell's Kitchen</td>\n      <td>68119814</td>\n      <td>Christophe</td>\n      <td>Manhattan</td>\n      <td>Hell's Kitchen</td>\n      <td>40.76404</td>\n      <td>-73.98933</td>\n      <td>Private room</td>\n      <td>90</td>\n      <td>7</td>\n      <td>0</td>\n      <td>NaN</td>\n      <td>NaN</td>\n      <td>1</td>\n      <td>23</td>\n    </tr>\n  </tbody>\n</table>\n<p>48895 rows × 16 columns</p>\n</div>"
     },
     "execution_count": 4,
     "metadata": {},
     "output_type": "execute_result"
    }
   ],
   "source": [
    "nyc=pd.read_csv(\"airbnb_2.csv\")\n",
    "nyc"
   ]
  },
  {
   "cell_type": "code",
   "execution_count": 5,
   "metadata": {},
   "outputs": [
    {
     "name": "stdout",
     "output_type": "stream",
     "text": [
      "<class 'pandas.core.frame.DataFrame'>\n",
      "RangeIndex: 48895 entries, 0 to 48894\n",
      "Data columns (total 16 columns):\n",
      " #   Column                          Non-Null Count  Dtype  \n",
      "---  ------                          --------------  -----  \n",
      " 0   id                              48895 non-null  int64  \n",
      " 1   name                            48879 non-null  object \n",
      " 2   host_id                         48895 non-null  int64  \n",
      " 3   host_name                       48874 non-null  object \n",
      " 4   neighbourhood_group             48895 non-null  object \n",
      " 5   neighbourhood                   48895 non-null  object \n",
      " 6   latitude                        48895 non-null  float64\n",
      " 7   longitude                       48895 non-null  float64\n",
      " 8   room_type                       48895 non-null  object \n",
      " 9   price                           48895 non-null  int64  \n",
      " 10  minimum_nights                  48895 non-null  int64  \n",
      " 11  number_of_reviews               48895 non-null  int64  \n",
      " 12  last_review                     38843 non-null  object \n",
      " 13  reviews_per_month               38843 non-null  float64\n",
      " 14  calculated_host_listings_count  48895 non-null  int64  \n",
      " 15  availability_365                48895 non-null  int64  \n",
      "dtypes: float64(3), int64(7), object(6)\n",
      "memory usage: 6.0+ MB\n"
     ]
    }
   ],
   "source": [
    "nyc.info()"
   ]
  },
  {
   "cell_type": "markdown",
   "metadata": {},
   "source": [
    "### Step 3: <span style=\"color:green\">Exploring your data with Pandas</span> \n",
    "\n",
    "The rest of these questions will have you focus on using the following Pandas Skills:\n",
    "\n",
    "<li> Subsetting a Pandas dataframe using [] and boolean operators </li>\n",
    "<li> Summing up Records with value_counts()</li>\n",
    "<li> Creating calculated fields </li>\n",
    "<li> Group By in Pandas </li> \n",
    "<li> Creating Bar Plots with Matplotlib</li> \n",
    "\n"
   ]
  },
  {
   "cell_type": "markdown",
   "metadata": {},
   "source": [
    "<b> i)  Please count how many airbnb listings are in each of the 5 Neighbourhood Groups (Manhattan, Brooklyn, Queens, Bronx, Staten Island) and identify which Neighbourhood Groups has the largest number of Airbnb Listings </b>\n",
    "<p>\n",
    "    <b> Put your code in the box below </b>"
   ]
  },
  {
   "cell_type": "code",
   "execution_count": 6,
   "metadata": {},
   "outputs": [
    {
     "name": "stdout",
     "output_type": "stream",
     "text": [
      "neighbourhood_group  count\n",
      "          Manhattan  21661\n",
      "           Brooklyn  20104\n",
      "             Queens   5666\n",
      "              Bronx   1091\n",
      "      Staten Island    373\n",
      "Manhattan\n"
     ]
    }
   ],
   "source": [
    "nyc_unique = nyc.drop_duplicates(subset = ['id'])\n",
    "grouped_data = nyc_unique.groupby(['neighbourhood_group'])['neighbourhood_group'].count().reset_index(name='count').sort_values(['count'], ascending=False)\n",
    "print(grouped_data.to_string(index=False))\n",
    "top_city = grouped_data.head(1)\n",
    "print(top_city['neighbourhood_group'].to_string(index=False))"
   ]
  },
  {
   "cell_type": "markdown",
   "metadata": {},
   "source": [
    "We want to focus our attention on the Neighbourhood Groups that have the top 3 number of Airbnb Listings.\n",
    "\n",
    "<b> ii) Calculate the % listings that each Neighbourhood Group contains. </b>\n",
    "\n",
    "<b> Put your code in the box below </b>"
   ]
  },
  {
   "cell_type": "code",
   "execution_count": 7,
   "outputs": [],
   "source": [
    "grouped_data['%'] = 100 * grouped_data['count']/grouped_data['count'].sum()\n"
   ],
   "metadata": {
    "collapsed": false
   }
  },
  {
   "cell_type": "code",
   "execution_count": 8,
   "metadata": {},
   "outputs": [
    {
     "name": "stdout",
     "output_type": "stream",
     "text": [
      "  neighbourhood_group  count          %\n",
      "2           Manhattan  21661  44.301053\n",
      "1            Brooklyn  20104  41.116679\n",
      "3              Queens   5666  11.588097\n"
     ]
    }
   ],
   "source": [
    "print(grouped_data.head(3))"
   ]
  },
  {
   "cell_type": "markdown",
   "metadata": {},
   "source": [
    "<b> iii) Create a new calculated field called Revenue and place this into the Airbnb Dataframe. This is to be calculated by using the Price Column x Number_Of_Reviews Columns </b>\n",
    "\n",
    "<b> Put your code in the box below </b>"
   ]
  },
  {
   "cell_type": "code",
   "execution_count": 9,
   "metadata": {},
   "outputs": [
    {
     "data": {
      "text/plain": "             id                                               name   host_id  \\\n0          2539                 Clean & quiet apt home by the park      2787   \n1          2595                              Skylit Midtown Castle      2845   \n2          3647                THE VILLAGE OF HARLEM....NEW YORK !      4632   \n3          3831                    Cozy Entire Floor of Brownstone      4869   \n4          5022   Entire Apt: Spacious Studio/Loft by central park      7192   \n...         ...                                                ...       ...   \n48890  36484665    Charming one bedroom - newly renovated rowhouse   8232441   \n48891  36485057      Affordable room in Bushwick/East Williamsburg   6570630   \n48892  36485431            Sunny Studio at Historical Neighborhood  23492952   \n48893  36485609               43rd St. Time Square-cozy single bed  30985759   \n48894  36487245  Trendy duplex in the very heart of Hell's Kitchen  68119814   \n\n           host_name neighbourhood_group       neighbourhood  latitude  \\\n0               John            Brooklyn          Kensington  40.64749   \n1           Jennifer           Manhattan             Midtown  40.75362   \n2          Elisabeth           Manhattan              Harlem  40.80902   \n3        LisaRoxanne            Brooklyn        Clinton Hill  40.68514   \n4              Laura           Manhattan         East Harlem  40.79851   \n...              ...                 ...                 ...       ...   \n48890        Sabrina            Brooklyn  Bedford-Stuyvesant  40.67853   \n48891        Marisol            Brooklyn            Bushwick  40.70184   \n48892  Ilgar & Aysel           Manhattan              Harlem  40.81475   \n48893            Taz           Manhattan      Hell's Kitchen  40.75751   \n48894     Christophe           Manhattan      Hell's Kitchen  40.76404   \n\n       longitude        room_type  price  minimum_nights  number_of_reviews  \\\n0      -73.97237     Private room    149               1                  9   \n1      -73.98377  Entire home/apt    225               1                 45   \n2      -73.94190     Private room    150               3                  0   \n3      -73.95976  Entire home/apt     89               1                270   \n4      -73.94399  Entire home/apt     80              10                  9   \n...          ...              ...    ...             ...                ...   \n48890  -73.94995     Private room     70               2                  0   \n48891  -73.93317     Private room     40               4                  0   \n48892  -73.94867  Entire home/apt    115              10                  0   \n48893  -73.99112      Shared room     55               1                  0   \n48894  -73.98933     Private room     90               7                  0   \n\n      last_review  reviews_per_month  calculated_host_listings_count  \\\n0      19/10/2018               0.21                               6   \n1      21/05/2019               0.38                               2   \n2             NaN                NaN                               1   \n3       5/07/2019               4.64                               1   \n4      19/11/2018               0.10                               1   \n...           ...                ...                             ...   \n48890         NaN                NaN                               2   \n48891         NaN                NaN                               2   \n48892         NaN                NaN                               1   \n48893         NaN                NaN                               6   \n48894         NaN                NaN                               1   \n\n       availability_365  Revenue  \n0                   365     1341  \n1                   355    10125  \n2                   365        0  \n3                   194    24030  \n4                     0      720  \n...                 ...      ...  \n48890                 9        0  \n48891                36        0  \n48892                27        0  \n48893                 2        0  \n48894                23        0  \n\n[48895 rows x 17 columns]",
      "text/html": "<div>\n<style scoped>\n    .dataframe tbody tr th:only-of-type {\n        vertical-align: middle;\n    }\n\n    .dataframe tbody tr th {\n        vertical-align: top;\n    }\n\n    .dataframe thead th {\n        text-align: right;\n    }\n</style>\n<table border=\"1\" class=\"dataframe\">\n  <thead>\n    <tr style=\"text-align: right;\">\n      <th></th>\n      <th>id</th>\n      <th>name</th>\n      <th>host_id</th>\n      <th>host_name</th>\n      <th>neighbourhood_group</th>\n      <th>neighbourhood</th>\n      <th>latitude</th>\n      <th>longitude</th>\n      <th>room_type</th>\n      <th>price</th>\n      <th>minimum_nights</th>\n      <th>number_of_reviews</th>\n      <th>last_review</th>\n      <th>reviews_per_month</th>\n      <th>calculated_host_listings_count</th>\n      <th>availability_365</th>\n      <th>Revenue</th>\n    </tr>\n  </thead>\n  <tbody>\n    <tr>\n      <th>0</th>\n      <td>2539</td>\n      <td>Clean &amp; quiet apt home by the park</td>\n      <td>2787</td>\n      <td>John</td>\n      <td>Brooklyn</td>\n      <td>Kensington</td>\n      <td>40.64749</td>\n      <td>-73.97237</td>\n      <td>Private room</td>\n      <td>149</td>\n      <td>1</td>\n      <td>9</td>\n      <td>19/10/2018</td>\n      <td>0.21</td>\n      <td>6</td>\n      <td>365</td>\n      <td>1341</td>\n    </tr>\n    <tr>\n      <th>1</th>\n      <td>2595</td>\n      <td>Skylit Midtown Castle</td>\n      <td>2845</td>\n      <td>Jennifer</td>\n      <td>Manhattan</td>\n      <td>Midtown</td>\n      <td>40.75362</td>\n      <td>-73.98377</td>\n      <td>Entire home/apt</td>\n      <td>225</td>\n      <td>1</td>\n      <td>45</td>\n      <td>21/05/2019</td>\n      <td>0.38</td>\n      <td>2</td>\n      <td>355</td>\n      <td>10125</td>\n    </tr>\n    <tr>\n      <th>2</th>\n      <td>3647</td>\n      <td>THE VILLAGE OF HARLEM....NEW YORK !</td>\n      <td>4632</td>\n      <td>Elisabeth</td>\n      <td>Manhattan</td>\n      <td>Harlem</td>\n      <td>40.80902</td>\n      <td>-73.94190</td>\n      <td>Private room</td>\n      <td>150</td>\n      <td>3</td>\n      <td>0</td>\n      <td>NaN</td>\n      <td>NaN</td>\n      <td>1</td>\n      <td>365</td>\n      <td>0</td>\n    </tr>\n    <tr>\n      <th>3</th>\n      <td>3831</td>\n      <td>Cozy Entire Floor of Brownstone</td>\n      <td>4869</td>\n      <td>LisaRoxanne</td>\n      <td>Brooklyn</td>\n      <td>Clinton Hill</td>\n      <td>40.68514</td>\n      <td>-73.95976</td>\n      <td>Entire home/apt</td>\n      <td>89</td>\n      <td>1</td>\n      <td>270</td>\n      <td>5/07/2019</td>\n      <td>4.64</td>\n      <td>1</td>\n      <td>194</td>\n      <td>24030</td>\n    </tr>\n    <tr>\n      <th>4</th>\n      <td>5022</td>\n      <td>Entire Apt: Spacious Studio/Loft by central park</td>\n      <td>7192</td>\n      <td>Laura</td>\n      <td>Manhattan</td>\n      <td>East Harlem</td>\n      <td>40.79851</td>\n      <td>-73.94399</td>\n      <td>Entire home/apt</td>\n      <td>80</td>\n      <td>10</td>\n      <td>9</td>\n      <td>19/11/2018</td>\n      <td>0.10</td>\n      <td>1</td>\n      <td>0</td>\n      <td>720</td>\n    </tr>\n    <tr>\n      <th>...</th>\n      <td>...</td>\n      <td>...</td>\n      <td>...</td>\n      <td>...</td>\n      <td>...</td>\n      <td>...</td>\n      <td>...</td>\n      <td>...</td>\n      <td>...</td>\n      <td>...</td>\n      <td>...</td>\n      <td>...</td>\n      <td>...</td>\n      <td>...</td>\n      <td>...</td>\n      <td>...</td>\n      <td>...</td>\n    </tr>\n    <tr>\n      <th>48890</th>\n      <td>36484665</td>\n      <td>Charming one bedroom - newly renovated rowhouse</td>\n      <td>8232441</td>\n      <td>Sabrina</td>\n      <td>Brooklyn</td>\n      <td>Bedford-Stuyvesant</td>\n      <td>40.67853</td>\n      <td>-73.94995</td>\n      <td>Private room</td>\n      <td>70</td>\n      <td>2</td>\n      <td>0</td>\n      <td>NaN</td>\n      <td>NaN</td>\n      <td>2</td>\n      <td>9</td>\n      <td>0</td>\n    </tr>\n    <tr>\n      <th>48891</th>\n      <td>36485057</td>\n      <td>Affordable room in Bushwick/East Williamsburg</td>\n      <td>6570630</td>\n      <td>Marisol</td>\n      <td>Brooklyn</td>\n      <td>Bushwick</td>\n      <td>40.70184</td>\n      <td>-73.93317</td>\n      <td>Private room</td>\n      <td>40</td>\n      <td>4</td>\n      <td>0</td>\n      <td>NaN</td>\n      <td>NaN</td>\n      <td>2</td>\n      <td>36</td>\n      <td>0</td>\n    </tr>\n    <tr>\n      <th>48892</th>\n      <td>36485431</td>\n      <td>Sunny Studio at Historical Neighborhood</td>\n      <td>23492952</td>\n      <td>Ilgar &amp; Aysel</td>\n      <td>Manhattan</td>\n      <td>Harlem</td>\n      <td>40.81475</td>\n      <td>-73.94867</td>\n      <td>Entire home/apt</td>\n      <td>115</td>\n      <td>10</td>\n      <td>0</td>\n      <td>NaN</td>\n      <td>NaN</td>\n      <td>1</td>\n      <td>27</td>\n      <td>0</td>\n    </tr>\n    <tr>\n      <th>48893</th>\n      <td>36485609</td>\n      <td>43rd St. Time Square-cozy single bed</td>\n      <td>30985759</td>\n      <td>Taz</td>\n      <td>Manhattan</td>\n      <td>Hell's Kitchen</td>\n      <td>40.75751</td>\n      <td>-73.99112</td>\n      <td>Shared room</td>\n      <td>55</td>\n      <td>1</td>\n      <td>0</td>\n      <td>NaN</td>\n      <td>NaN</td>\n      <td>6</td>\n      <td>2</td>\n      <td>0</td>\n    </tr>\n    <tr>\n      <th>48894</th>\n      <td>36487245</td>\n      <td>Trendy duplex in the very heart of Hell's Kitchen</td>\n      <td>68119814</td>\n      <td>Christophe</td>\n      <td>Manhattan</td>\n      <td>Hell's Kitchen</td>\n      <td>40.76404</td>\n      <td>-73.98933</td>\n      <td>Private room</td>\n      <td>90</td>\n      <td>7</td>\n      <td>0</td>\n      <td>NaN</td>\n      <td>NaN</td>\n      <td>1</td>\n      <td>23</td>\n      <td>0</td>\n    </tr>\n  </tbody>\n</table>\n<p>48895 rows × 17 columns</p>\n</div>"
     },
     "execution_count": 9,
     "metadata": {},
     "output_type": "execute_result"
    }
   ],
   "source": [
    "nyc_unique['Revenue'] = nyc_unique['price'] * nyc_unique['number_of_reviews']\n",
    "nyc_unique"
   ]
  },
  {
   "cell_type": "markdown",
   "metadata": {},
   "source": [
    "<b> iv) Create a Bar Plot that shows which Neighbourhood Group has the highest average revenues. In order to best\n",
    "calculate this, you'd want to consider how you can use the .groupby() syntax to assist you! </b>\n",
    "\n",
    "If you're stuck, we recommend you go back to <a href = https://learn.datacamp.com/courses/manipulating-dataframes-with-pandas> this </a> datacamp link. Specifically Chapter 4 which covers how GROUP BY is used in Pandas.\n",
    "\n",
    "<b> Put your code in the box below </b>"
   ]
  },
  {
   "cell_type": "code",
   "execution_count": 12,
   "metadata": {},
   "outputs": [
    {
     "name": "stdout",
     "output_type": "stream",
     "text": [
      "  neighbourhood_group         mean\n",
      "0               Bronx  1999.439963\n",
      "1            Brooklyn  2927.567400\n",
      "2           Manhattan  3375.960574\n",
      "3              Queens  2400.151077\n",
      "4       Staten Island  2541.764075\n"
     ]
    },
    {
     "data": {
      "text/plain": "<AxesSubplot:xlabel='neighbourhood_group'>"
     },
     "execution_count": 12,
     "metadata": {},
     "output_type": "execute_result"
    },
    {
     "data": {
      "text/plain": "<Figure size 640x480 with 1 Axes>",
      "image/png": "[encoded data removed]"
     },
     "metadata": {},
     "output_type": "display_data"
    }
   ],
   "source": [
    "mean_val = nyc_unique.groupby(['neighbourhood_group'])['Revenue'].mean().reset_index(name='mean')\n",
    "print( mean_val)\n",
    "mean_val.plot.bar(x='neighbourhood_group', y='mean', rot=0)"
   ]
  },
  {
   "cell_type": "markdown",
   "metadata": {},
   "source": [
    "<h3> <span style=\"color:green\">Challenge Questions</span> </h3>"
   ]
  },
  {
   "cell_type": "markdown",
   "metadata": {},
   "source": [
    "<b> V) Filter the Airbnb Dataframe to include only the Neighbourhood Groups Manhattan, Brookly and Queens. \n",
    "    \n",
    "Upon completion of this, identify the top 3 Revenue Generating Neighborhoods within each of the three Neighbourhood_Groups. This should give us 9 Overall Rows: 3 of the top generating neighbourhoods within each of the 3 Neighbourhood_Groups </b>\n",
    "\n",
    "This is a tricky question that will *test* your group-by skills.\n",
    "\n",
    "We recommend you consider the following:\n",
    "\n",
    "    condition1 = someDataFrame['someColumn']=='someCondition'\n",
    "    condition2 = someDataFrame['someColumn']=='someCondition'\n",
    "    \n",
    "    Step One - Filter the Dataframe using the Conditions\n",
    "    filtered_dataframe = someDataFrame[condition1 OR condition 2] \n",
    "    #Hint: You might want to look up what the OR symbol in Python is represented as in operator form (i.e. AND (&) )\n",
    "    \n",
    "    Step Two - Group the Data by Neighbourhood_Group and Neighbourhood. Don't forget you're looking to SUM up the Revenues.\n",
    "    \n",
    "    The remaining steps we recommend you think very carefully about.\n",
    "    \n",
    "    You might want to make use of the .reset_index(inplace=True) function to help reset the indexes in \n",
    "    your Grouped Up Dataframe...!\n",
    "    \n",
    "    \n",
    "<b> Put your code in the box below </b>"
   ]
  },
  {
   "cell_type": "code",
   "execution_count": 39,
   "metadata": {},
   "outputs": [],
   "source": [
    "three_groups = ['Manhattan', 'Brooklyn', 'Queens']\n",
    "nyc_3 = nyc_unique[nyc_unique['neighbourhood_group'].isin(three_groups)]\n",
    "nyc_3\n",
    "##nyc_3_g = (nyc_3.groupby(['neighbourhood_group','neighbourhood'], as_index=False).agg(sum=('Revenue','sum')))\n",
    "##print(nyc_3)\n",
    "vals = nyc_3.groupby(['neighbourhood_group','neighbourhood']).apply(lambda x : x.sort_values(by = 'Revenue', ascending = False).head(3).reset_index(drop = True))\n"
   ]
  },
  {
   "cell_type": "markdown",
   "metadata": {},
   "source": [
    "<b> VI) Building on the previous question where you identified the top 3 Neighbourhoods within each of the three neighbourhood_groups based off Revenues, please filter the Airbnb Dataframe to include only these neighbourhoods. \n",
    "    \n",
    "Upon completion of this, identify the  top average revenue generating room type for each of the nine neighbourhoods and plot this out in a Bar Chart.</b>\n",
    "\n",
    "This is a tricky question that will *test* your group-by skills. Think back to the previous question and how you approached this; you can approach this in a similar manner. \n",
    "\n",
    "We recommend you consider the following:\n",
    "\n",
    "    condition1 = someDataFrame['someColumn']=='someCondition'\n",
    "    condition2 = someDataFrame['someColumn']=='someCondition'\n",
    "    \n",
    "    Step One - Filter the Dataframe using the Conditions\n",
    "    filtered_dataframe = someDataFrame[condition1 OR condition 2] \n",
    "    #Hint: You might want to look up what the OR symbol in Python is represented as in operator form (i.e. AND (&) )\n",
    "    \n",
    "    Step Two - Group the Data by Neighbourhood_Group and Neighbourhood. Don't forget you're looking to SUM up the Revenues.\n",
    "    \n",
    "    The remaining steps we recommend you think very carefully about.\n",
    "    \n",
    "    You might want to make use of the .reset_index(inplace=True) function to help reset the indexes in \n",
    "    your Grouped Up Dataframe...!\n",
    "    \n",
    "    \n",
    " <b> Put your code in the box below </b>      "
   ]
  },
  {
   "cell_type": "code",
   "execution_count": 10,
   "metadata": {},
   "outputs": [],
   "source": []
  }
 ],
 "metadata": {
  "kernelspec": {
   "display_name": "Python 3",
   "language": "python",
   "name": "python3"
  },
  "language_info": {
   "codemirror_mode": {
    "name": "ipython",
    "version": 3
   },
   "file_extension": ".py",
   "mimetype": "text/x-python",
   "name": "python",
   "nbconvert_exporter": "python",
   "pygments_lexer": "ipython3",
   "version": "3.8.3"
  }
 },
 "nbformat": 4,
 "nbformat_minor": 4
}
